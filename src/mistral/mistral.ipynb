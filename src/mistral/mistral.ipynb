{
 "cells": [
  {
   "cell_type": "code",
   "execution_count": 2,
   "id": "b0edfb8b-0a41-4880-9e41-7129eebc539d",
   "metadata": {},
   "outputs": [],
   "source": [
    "## Experiment Notebook for RAG Approach with Ollama and Mistral Model\n",
    "import os\n",
    "import pandas as pd\n",
    "from mistral import (\n",
    "    create_dataset, \n",
    "    generate_faiss_vectorstores, \n",
    "    run_experiment, \n",
    "    generate_results\n",
    ")\n",
    "from langchain.embeddings import HuggingFaceEmbeddings"
   ]
  },
  {
   "cell_type": "code",
   "execution_count": null,
   "id": "dc2900a2-9b02-4489-a2fd-e00487c307d4",
   "metadata": {},
   "outputs": [],
   "source": []
  },
  {
   "cell_type": "code",
   "execution_count": null,
   "id": "b736c816-d4b9-4bf2-a591-7fd251cdfff2",
   "metadata": {},
   "outputs": [],
   "source": [
    "# Set embedding model\n",
    "embedding_model_name = \"allenai/scibert_scivocab_uncased\"\n",
    "model_kwargs = {\"device\": \"cpu\"}\n",
    "embeddings = HuggingFaceEmbeddings(\n",
    "    model_name=embedding_model_name,\n",
    "    model_kwargs=model_kwargs\n",
    ")"
   ]
  },
  {
   "cell_type": "code",
   "execution_count": null,
   "id": "6593fcbc-85d3-48bb-a8a2-f12e20270078",
   "metadata": {},
   "outputs": [],
   "source": []
  },
  {
   "cell_type": "code",
   "execution_count": null,
   "id": "edb26710-f405-4c54-b7a9-54acd49863f0",
   "metadata": {},
   "outputs": [],
   "source": [
    "# Define Experiment Parameters\n",
    "n_samples_per_category = 2000\n",
    "test_size = 0.10\n",
    "\n",
    "feature_sets = [\n",
    "    [\"Title\", \"Abstract\"],  # Text Only\n",
    "    [\"Title\", \"Abstract\", \"Flesch Reading Ease\", \"Gunning Fog Index\"],  # Text + Readability\n",
    "]\n",
    "\n",
    "k_values = [5]  # Different values of `k` for retrieval"
   ]
  },
  {
   "cell_type": "code",
   "execution_count": null,
   "id": "e70a5978-08bb-4ee5-a7fd-2cce68ce3136",
   "metadata": {},
   "outputs": [],
   "source": []
  },
  {
   "cell_type": "code",
   "execution_count": null,
   "id": "6a654597-ceb0-4852-aa25-b0ef8a3198ad",
   "metadata": {},
   "outputs": [],
   "source": [
    "# Prepare Dataset\n",
    "dataset_path = \"../dataset/research_papers.csv\"\n",
    "df_knowledge_base, df_test = create_dataset(dataset_path, n_samples_per_category, test_size)"
   ]
  },
  {
   "cell_type": "code",
   "execution_count": null,
   "id": "124c8334-329c-4a87-9a57-2721c9596238",
   "metadata": {},
   "outputs": [],
   "source": []
  },
  {
   "cell_type": "code",
   "execution_count": null,
   "id": "0b2afcb6-57f0-47ea-bf4e-6eee302663f2",
   "metadata": {},
   "outputs": [],
   "source": [
    "# Generate FAISS Vector Stores with Parallel Processing\n",
    "vectorstores = generate_faiss_vectorstores(feature_sets, df_knowledge_base, embeddings, max_workers=4)"
   ]
  },
  {
   "cell_type": "code",
   "execution_count": null,
   "id": "4061b7b6-c3f8-4018-bc91-5df0d1a3ed4d",
   "metadata": {},
   "outputs": [],
   "source": []
  },
  {
   "cell_type": "code",
   "execution_count": null,
   "id": "6c6bb490-a528-4acb-80f2-cba106b458e0",
   "metadata": {
    "scrolled": true
   },
   "outputs": [],
   "source": [
    "# Run Experiment\n",
    "results_path = \"../../results/predictions/mistral rag predictions.csv\"\n",
    "run_experiment(feature_sets, k_values, df_test, vectorstores, results_path)"
   ]
  },
  {
   "cell_type": "code",
   "execution_count": null,
   "id": "c9e40dda-ad1a-405b-84b1-153aea737eaa",
   "metadata": {},
   "outputs": [],
   "source": []
  },
  {
   "cell_type": "code",
   "execution_count": null,
   "id": "bc569840-da33-4aa0-b1b7-669e1f8c807a",
   "metadata": {},
   "outputs": [],
   "source": [
    "# Generate and Display Results\n",
    "metrics_results = generate_results(results_path)\n",
    "metrics_results.head()"
   ]
  },
  {
   "cell_type": "code",
   "execution_count": null,
   "id": "edeebd65-5eb0-4b99-aecf-2a29402bec5d",
   "metadata": {},
   "outputs": [],
   "source": []
  },
  {
   "cell_type": "code",
   "execution_count": null,
   "id": "362411e1-6698-4bcb-b5d2-1c859a7a7650",
   "metadata": {},
   "outputs": [],
   "source": [
    "# Save Results to CSV\n",
    "metrics_results.to_csv(\"../../results/metrics/mistral rag metrics.csv\", index=False)"
   ]
  },
  {
   "cell_type": "code",
   "execution_count": null,
   "id": "f3804eb6-c86b-44ba-89ec-90346544b9ff",
   "metadata": {},
   "outputs": [],
   "source": []
  }
 ],
 "metadata": {
  "kernelspec": {
   "display_name": "Python 3 (ipykernel)",
   "language": "python",
   "name": "python3"
  },
  "language_info": {
   "codemirror_mode": {
    "name": "ipython",
    "version": 3
   },
   "file_extension": ".py",
   "mimetype": "text/x-python",
   "name": "python",
   "nbconvert_exporter": "python",
   "pygments_lexer": "ipython3",
   "version": "3.12.7"
  }
 },
 "nbformat": 4,
 "nbformat_minor": 5
}
