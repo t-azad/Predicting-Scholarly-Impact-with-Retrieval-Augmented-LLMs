{
 "cells": [
  {
   "cell_type": "code",
   "execution_count": null,
   "id": "473b06fe-4ebb-42b9-b01c-f0232fc4ff98",
   "metadata": {},
   "outputs": [],
   "source": []
  },
  {
   "cell_type": "code",
   "execution_count": null,
   "id": "11dce363-96ec-4396-a02a-7a9583db789d",
   "metadata": {},
   "outputs": [],
   "source": [
    "# ✅ Import Required Libraries and Functions\n",
    "from zero_shot import (\n",
    "    run_zero_shot_experiment,\n",
    "    create_dataset\n",
    ")\n",
    "import pandas as pd"
   ]
  },
  {
   "cell_type": "code",
   "execution_count": null,
   "id": "313bddd6-a63f-463d-8792-9c46277530d0",
   "metadata": {},
   "outputs": [],
   "source": []
  },
  {
   "cell_type": "code",
   "execution_count": 4,
   "id": "e3238578-88ac-4558-a42c-f057ad89b7d7",
   "metadata": {},
   "outputs": [
    {
     "name": "stdout",
     "output_type": "stream",
     "text": [
      "\n",
      "📊 Distribution of Papers in df_test by Domain and ECDF_FCR_Category:\n",
      "\n",
      "              Domain ECDF_FCR_Category  Count\n",
      "0   Computer Science              High     50\n",
      "1   Computer Science               Low     48\n",
      "2   Computer Science            Medium     47\n",
      "3        Engineering              High     44\n",
      "4        Engineering               Low     47\n",
      "5        Engineering            Medium     43\n",
      "6        Mathematics              High     33\n",
      "7        Mathematics               Low     30\n",
      "8        Mathematics            Medium     33\n",
      "9   Physical Science              High     35\n",
      "10  Physical Science               Low     37\n",
      "11  Physical Science            Medium     39\n",
      "12        Psychology              High     37\n",
      "13        Psychology               Low     39\n",
      "14        Psychology            Medium     38\n"
     ]
    }
   ],
   "source": [
    "# ✅ Experiment Parameters\n",
    "n_samples_per_category = 2000  # Number of samples per ECDF_FCR_Category\n",
    "test_size = 0.10  # Test set size as a percentage of the total dataset\n",
    "dataset_path = \"../Dataset Creation/2018-2022 Data.csv\"\n",
    "\n",
    "# ✅ Define Feature Sets for Experiments\n",
    "feature_sets = [\n",
    "    [\"Title\", \"Abstract\"],  # Text Only\n",
    "    [\"Title\", \"Abstract\", \"Flesch Reading Ease\"],  # Text + Readability\n",
    "    [\"Title\", \"Abstract\", \"Flesch Reading Ease\", \"Gunning Fog Index\"]  # Text + All Readability\n",
    "]\n",
    "\n",
    "\n",
    "# ✅ Create Dataset (Knowledge Base and Test Set)\n",
    "df_knowledge_base, df_test = create_dataset(dataset_path, n_samples_per_category, test_size)"
   ]
  },
  {
   "cell_type": "code",
   "execution_count": null,
   "id": "32c284e0-5c4b-4cdd-9788-38761a9c1e2c",
   "metadata": {},
   "outputs": [],
   "source": []
  },
  {
   "cell_type": "code",
   "execution_count": 5,
   "id": "e58711d2-4604-42db-beb6-db0d33ff0353",
   "metadata": {},
   "outputs": [],
   "source": [
    "models = [\"llama3\", \"mistral\", \"gemma\"]\n",
    "predictions_files = [\n",
    "    \"../Results/llama3 zero-shot predictions.csv\",\n",
    "    \"../Results/mistral zero-shot predictions.csv\",\n",
    "    \"../Results/gemma zero-shot predictions.csv\"\n",
    "]\n",
    "metrics_files = [\n",
    "    \"../Results/llama3 zero-shot metrics.csv\",\n",
    "    \"../Results/mistral zero-shot metrics.csv\",\n",
    "    \"../Results/gemma zero-shot metrics.csv\"\n",
    "]"
   ]
  },
  {
   "cell_type": "code",
   "execution_count": null,
   "id": "392f2576-286b-4b3d-919e-982163d1178d",
   "metadata": {},
   "outputs": [],
   "source": []
  },
  {
   "cell_type": "code",
   "execution_count": null,
   "id": "dfc5f3fe-eb7f-4426-a296-e5e2c49310ce",
   "metadata": {
    "scrolled": true
   },
   "outputs": [
    {
     "name": "stdout",
     "output_type": "stream",
     "text": [
      "\n",
      "🚀 Running Zero-Shot Experiment with llama3 Model\n",
      "\n",
      "🚀 Running Zero-Shot Prompting with Features: ['Title', 'Abstract'] using llama3\n"
     ]
    },
    {
     "name": "stderr",
     "output_type": "stream",
     "text": [
      "C:\\Users\\realt\\OneDrive\\Documents\\Citation Prediction\\v2\\zero shot\\zero_shot.py:50: LangChainDeprecationWarning: The class `Ollama` was deprecated in LangChain 0.3.1 and will be removed in 1.0.0. An updated version of the class exists in the :class:`~langchain-ollama package and should be used instead. To use it run `pip install -U :class:`~langchain-ollama` and import as `from :class:`~langchain_ollama import OllamaLLM``.\n",
      "  llm = Ollama(model=model_name)\n",
      "C:\\Users\\realt\\OneDrive\\Documents\\Citation Prediction\\v2\\zero shot\\zero_shot.py:50: LangChainDeprecationWarning: The class `Ollama` was deprecated in LangChain 0.3.1 and will be removed in 1.0.0. An updated version of the class exists in the :class:`~langchain-ollama package and should be used instead. To use it run `pip install -U :class:`~langchain-ollama` and import as `from :class:`~langchain_ollama import OllamaLLM``.\n",
      "  llm = Ollama(model=model_name)\n",
      "C:\\Users\\realt\\OneDrive\\Documents\\Citation Prediction\\v2\\zero shot\\zero_shot.py:50: LangChainDeprecationWarning: The class `Ollama` was deprecated in LangChain 0.3.1 and will be removed in 1.0.0. An updated version of the class exists in the :class:`~langchain-ollama package and should be used instead. To use it run `pip install -U :class:`~langchain-ollama` and import as `from :class:`~langchain_ollama import OllamaLLM``.\n",
      "  llm = Ollama(model=model_name)\n"
     ]
    },
    {
     "name": "stdout",
     "output_type": "stream",
     "text": [
      "\n",
      "--------------------------\n",
      "\n",
      "Given a new research paper, predict its normalized FCR score between 0 and 1, where 0 means very low impact and 1 means very high impact.\n",
      "\n",
      "**🔹 New Research Paper:**\n",
      "Title: advances in the development of biodegradable coronary stents a translational perspective\n",
      "Abstract: implantation of cardiovascular stents is an important therapeutic method to treat coronary artery diseases. baremetal and drugeluting stents show promising clinical outcomes, however, their permanent presence may create complications. in recent years, numerous preclinical and clinical trials have evaluated the properties of bioresorbable stents, including polymer and magnesiumbased stents. threedimensional 3d printedshapememory polymeric materials enable the selfdeployment of stents and provide a novel approach for individualized treatment. novel bioresorbable metallic stents such as iron and zincbased stents have also been investigated and refined. however, the development of novel bioresorbable stents accompanied by clinical translation remains timeconsuming and challenging. this review comprehensively summarizes the development of bioresorbable stents based on their preclinicalclinical trials and highlights translational research as well as novel technologies for stents e.g., bioresorbable electronic stents integrated with biosensors. these findings are expected to inspire the design of novel stents and optimization approaches to improve the efficacy of treatments for cardiovascular diseases.\n",
      "\n",
      "**Return only a number. Do not add explanations or text.**\n",
      "\n",
      "--------------------------\n",
      "\n",
      "\n",
      "--------------------------\n",
      "\n",
      "Given a new research paper, predict its normalized FCR score between 0 and 1, where 0 means very low impact and 1 means very high impact.\n",
      "\n",
      "**🔹 New Research Paper:**\n",
      "Title: the far side of mars two distant marsquakes detected by insight\n",
      "Abstract: abstract for over three earth years the marsquake service has been analyzing the data sent back from the seismic experiment for interior structurethe seismometer placed on the surface of mars by nasas insight lander. although by october 2021, the mars seismic catalog included 951 events, until recently all these events have been assessed as lying within a radius of 100 of insight. here we report two distant events that occurred within days of each other, located on the far side of mars, giving us our first glimpse into mars core shadow zone. the first event, recorded on 25 august 2021 insight sol 976, shows clear polarized arrivals that we interpret to be pp and ss phases at low frequencies and locates to valles marineris, 146 7 from insight. the second event, occurring on 18 september 2021 sol 1000, has significantly more broadband energy with emergent pp and ss arrivals, and a weak phase arriving before pp that we interpret as pdiff. considering uncertain pick times and poorly constrained travel times for pdiff, we estimate this event is at a distance between 107 and 147 from insight. with magnitudes of mwma 4.2 and 4.1, respectively, these are the largest seismic events recorded so far on mars.\n",
      "\n",
      "**Return only a number. Do not add explanations or text.**\n",
      "\n",
      "--------------------------\n",
      "\n",
      "\n",
      "--------------------------\n",
      "\n",
      "Given a new research paper, predict its normalized FCR score between 0 and 1, where 0 means very low impact and 1 means very high impact.\n",
      "\n",
      "**🔹 New Research Paper:**\n",
      "Title: the rprocess alliance a nearly complete rprocess abundance template derived from ultraviolet spectroscopy of the rprocessenhanced metalpoor star hd 222925 based on observations made with the nasaesa hubble space telescope, obtained at the space telescope science institute, which is operated by the association of universities for research in astronomy, inc. under nasa contract nas 526555. these observations are primarily associated with program go15657. data from programs go7348, go8197, go9804, go12554, go14161, and go14765 are also used. this paper also includes data gathered with the 6.5 meter magellan telescopes located at las campanas observatory, chile.\n",
      "Abstract: we present a nearly complete rapid neutroncapture process rprocess chemical inventory of the metalpoor feh 1.46 0.10 rprocessenhanced eufe 1.32 0.08 halo star hd 222925. this abundance set is the most complete for any object beyond the solar system, with a total of 63 metals detected and seven with upper limits. it comprises 42 elements from 31 z 90, including elements rarely detected in rprocessenhanced stars, such as ga, ge, as, se, cd, in, sn, sb, te, w, re, os, ir, pt, and au. we derive these abundances from an analysis of 404 absorption lines in ultraviolet spectra collected using the space telescope imaging spectrograph on the hubble space telescope and previously analyzed optical spectra. a series of appendices discusses the atomic data and quality of fits for these lines. the rprocess elements from ba to pb, including all elements at the third rprocess peak, exhibit remarkable agreement with the solar rprocess residuals, with a standard deviation of the differences of only 0.08 dex 17. in contrast, deviations among the lighter elements from ga to te span nearly 1.4 dex, and they show distinct trends from ga to se, nb through cd, and in through te. the rprocess contribution to ga, ge, and as is small, and se is the lightest element whose production is dominated by the rprocess. the lanthanide fraction, log x la 1.39 0.09, is typical for rprocessenhanced stars and higher than that of the kilonova from the gw170817 neutronstar merger event. we advocate adopting this pattern as an alternative to the solar rprocesselement residuals when confronting future theoretical models of heavyelement nucleosynthesis with observations.\n",
      "\n",
      "**Return only a number. Do not add explanations or text.**\n",
      "\n",
      "--------------------------\n",
      "\n",
      "\n",
      "--------------------------\n",
      "\n",
      "Given a new research paper, predict its normalized FCR score between 0 and 1, where 0 means very low impact and 1 means very high impact.\n",
      "\n",
      "**🔹 New Research Paper:**\n",
      "Title: leveraging user comments for the construction of recycled water infrastructureevidence from an eyetracking experiment\n",
      "Abstract: building sufficient recycled water infrastructure is an effective way to solve problems related to water shortages and environmental degradation, and is of great strategic significance for saving resources, protecting the ecological environment, and promoting sustainable social and economic development. although recycled water is environmentally friendly, the public is still skeptical about its use, which has led to the failure of a large number of recycled water infrastructure investments therefore, increasing the publics willingness to reuse is critical for the construction of recycled water infrastructure. to identify the influence mechanism of user comments on public reuse behaviors, we conducted an eyetracking experiment in china. the results demonstrated that 1 perceived usefulness, perceived quality, and perceived risk have significant impacts on the publics willingness to buy 2 user reviews can enhance the publics perceived usefulness of recycled products and increase their willingness to buy and 3 in the process of consumption, the public tends to pay attention to negative reviews, where user reviews alter the perceived risks and perceived prices of recycled products, thereby affecting the willingness to buy of consumers. this study provides a scientific reference for the construction of recycled water infrastructure and the further promotion of recycled water.\n",
      "\n",
      "**Return only a number. Do not add explanations or text.**\n",
      "\n",
      "--------------------------\n",
      "\n"
     ]
    }
   ],
   "source": [
    "# ✅ Run Zero-Shot Experiments for Each Model\n",
    "for model_name, predictions_file, metrics_file in zip(models, predictions_files, metrics_files):\n",
    "    print(f\"\\n🚀 Running Zero-Shot Experiment with {model_name} Model\")\n",
    "    run_zero_shot_experiment(\n",
    "        df_test, \n",
    "        feature_sets, \n",
    "        predictions_file, \n",
    "        metrics_file, \n",
    "        model_name=model_name\n",
    "    )\n",
    "\n",
    "    # ✅ Load and Display Results\n",
    "    df_eval = pd.read_csv(metrics_file)\n",
    "    print(f\"\\n📊 {model_name.capitalize()} Evaluation Results\")\n",
    "    print(df_eval.head())"
   ]
  },
  {
   "cell_type": "code",
   "execution_count": null,
   "id": "a204f730-ed6e-4caf-b1fb-baa662b9881d",
   "metadata": {},
   "outputs": [],
   "source": []
  },
  {
   "cell_type": "code",
   "execution_count": null,
   "id": "a22b7d93-f438-43ea-bbc4-3dd2fa14afa6",
   "metadata": {},
   "outputs": [],
   "source": []
  },
  {
   "cell_type": "code",
   "execution_count": null,
   "id": "7053e4a8-e703-4494-a591-1c87acdaa39f",
   "metadata": {},
   "outputs": [],
   "source": []
  },
  {
   "cell_type": "code",
   "execution_count": null,
   "id": "468b04c1-71ea-46be-a39e-5951dd70d470",
   "metadata": {},
   "outputs": [],
   "source": [
    "# Read and combine all metrics CSV files into a single DataFrame\n",
    "combined_df = pd.concat([pd.read_csv(file) for file in metrics_files], ignore_index=True)\n",
    "\n",
    "# Save the combined DataFrame to a new CSV file\n",
    "combined_df.to_csv(\"../Results/combined models zero-shot metrics.csv\", index=False)\n",
    "\n",
    "print(\"Combined CSV file created at ../Results/combined models zero-shot metrics.csv\")"
   ]
  },
  {
   "cell_type": "code",
   "execution_count": null,
   "id": "64331550-9b97-4d45-9a3b-ea89d2c2a67f",
   "metadata": {},
   "outputs": [],
   "source": []
  },
  {
   "cell_type": "code",
   "execution_count": null,
   "id": "2fe9fcaf-707f-4188-8d66-6e46b24d4c20",
   "metadata": {},
   "outputs": [],
   "source": []
  },
  {
   "cell_type": "code",
   "execution_count": null,
   "id": "bb763d67-2858-4ffa-9378-0763e1744518",
   "metadata": {},
   "outputs": [],
   "source": []
  },
  {
   "cell_type": "code",
   "execution_count": null,
   "id": "bbc8b8bf-0342-43d8-856c-13d1b7c6ef5d",
   "metadata": {},
   "outputs": [],
   "source": [
    "# Delete each file in the list\n",
    "for file in metrics_files:\n",
    "    try:\n",
    "        os.remove(file)\n",
    "        print(f\"Deleted: {file}\")\n",
    "    except FileNotFoundError:\n",
    "        print(f\"File not found: {file}\")\n",
    "    except Exception as e:\n",
    "        print(f\"Error deleting {file}: {e}\")"
   ]
  },
  {
   "cell_type": "code",
   "execution_count": null,
   "id": "f0fa2d26-b198-4f11-94c9-793d9ced58b0",
   "metadata": {},
   "outputs": [],
   "source": []
  },
  {
   "cell_type": "code",
   "execution_count": null,
   "id": "a378aaac-9fbe-40e7-a03f-4e9bba7a4afa",
   "metadata": {},
   "outputs": [],
   "source": []
  },
  {
   "cell_type": "code",
   "execution_count": null,
   "id": "f0fd6f09-4587-4fb6-a7d1-0205919836c1",
   "metadata": {},
   "outputs": [],
   "source": []
  },
  {
   "cell_type": "code",
   "execution_count": null,
   "id": "53ee43ac-565e-4820-a9c9-6902b88cb4cb",
   "metadata": {},
   "outputs": [],
   "source": []
  }
 ],
 "metadata": {
  "kernelspec": {
   "display_name": "Python 3 (ipykernel)",
   "language": "python",
   "name": "python3"
  },
  "language_info": {
   "codemirror_mode": {
    "name": "ipython",
    "version": 3
   },
   "file_extension": ".py",
   "mimetype": "text/x-python",
   "name": "python",
   "nbconvert_exporter": "python",
   "pygments_lexer": "ipython3",
   "version": "3.11.7"
  }
 },
 "nbformat": 4,
 "nbformat_minor": 5
}
